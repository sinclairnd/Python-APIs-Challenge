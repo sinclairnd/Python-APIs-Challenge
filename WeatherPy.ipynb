{
 "cells": [
  {
   "cell_type": "markdown",
   "metadata": {},
   "source": [
    "# WeatherPy\n",
    "----\n",
    "\n",
    "#### Note\n",
    "* Instructions have been included for each segment. You do not have to follow them exactly, but they are included to help you think through the steps."
   ]
  },
  {
   "cell_type": "code",
   "execution_count": 1,
   "metadata": {
    "scrolled": true
   },
   "outputs": [],
   "source": [
    "# Dependencies and Setup\n",
    "import matplotlib.pyplot as plt\n",
    "import pandas as pd\n",
    "import numpy as np\n",
    "import requests\n",
    "import time\n",
    "from scipy.stats import linregress\n",
    "import json\n",
    "\n",
    "# Import API key\n",
    "from api_keys import weather_api_key\n",
    "\n",
    "# Incorporated citipy to determine city based on latitude and longitude\n",
    "from citipy import citipy\n",
    "\n",
    "\n",
    "# Output File (CSV)\n",
    "output_data_file = \"output_data/cities.csv\"\n",
    "\n",
    "# Range of latitudes and longitudes\n",
    "lat_range = (-90, 90)\n",
    "lng_range = (-180, 180)"
   ]
  },
  {
   "cell_type": "markdown",
   "metadata": {},
   "source": [
    "## Generate Cities List"
   ]
  },
  {
   "cell_type": "code",
   "execution_count": 2,
   "metadata": {},
   "outputs": [
    {
     "data": {
      "text/plain": [
       "619"
      ]
     },
     "execution_count": 2,
     "metadata": {},
     "output_type": "execute_result"
    }
   ],
   "source": [
    "# List for holding lat_lngs and cities\n",
    "lat_lngs = []\n",
    "cities = []\n",
    "\n",
    "# Create a set of random lat and lng combinations\n",
    "lats = np.random.uniform(lat_range[0], lat_range[1], size=1500)\n",
    "lngs = np.random.uniform(lng_range[0], lng_range[1], size=1500)\n",
    "lat_lngs = zip(lats, lngs)\n",
    "\n",
    "# Identify nearest city for each lat, lng combination\n",
    "for lat_lng in lat_lngs:\n",
    "    city = citipy.nearest_city(lat_lng[0], lat_lng[1]).city_name\n",
    "    \n",
    "    # If the city is unique, then add it to a our cities list\n",
    "    if city not in cities:\n",
    "        cities.append(city)\n",
    "\n",
    "# Print the city count to confirm sufficient count\n",
    "len(cities)"
   ]
  },
  {
   "cell_type": "markdown",
   "metadata": {},
   "source": [
    "### Perform API Calls\n",
    "* Perform a weather check on each city using a series of successive API calls.\n",
    "* Include a print log of each city as it'sbeing processed (with the city number and city name).\n"
   ]
  },
  {
   "cell_type": "code",
   "execution_count": 3,
   "metadata": {},
   "outputs": [],
   "source": [
    "url = \"http://api.openweathermap.org/data/2.5/weather?q=kodiak&appid=\" + weather_api_key\n",
    "response = requests.get(url)"
   ]
  },
  {
   "cell_type": "code",
   "execution_count": 4,
   "metadata": {},
   "outputs": [
    {
     "data": {
      "text/plain": [
       "{'coord': {'lon': -152.4072, 'lat': 57.79},\n",
       " 'weather': [{'id': 500,\n",
       "   'main': 'Rain',\n",
       "   'description': 'light rain',\n",
       "   'icon': '10d'}],\n",
       " 'base': 'stations',\n",
       " 'main': {'temp': 285.88,\n",
       "  'feels_like': 285.35,\n",
       "  'temp_min': 285.88,\n",
       "  'temp_max': 285.88,\n",
       "  'pressure': 1010,\n",
       "  'humidity': 82},\n",
       " 'visibility': 10000,\n",
       " 'wind': {'speed': 6.69, 'deg': 130},\n",
       " 'rain': {'1h': 0.17},\n",
       " 'clouds': {'all': 90},\n",
       " 'dt': 1628383353,\n",
       " 'sys': {'type': 1,\n",
       "  'id': 7668,\n",
       "  'country': 'US',\n",
       "  'sunrise': 1628345867,\n",
       "  'sunset': 1628403177},\n",
       " 'timezone': -28800,\n",
       " 'id': 5866583,\n",
       " 'name': 'Saint Paul Harbor',\n",
       " 'cod': 200}"
      ]
     },
     "execution_count": 4,
     "metadata": {},
     "output_type": "execute_result"
    }
   ],
   "source": [
    "d = json.loads(response.text)\n",
    "d"
   ]
  },
  {
   "cell_type": "code",
   "execution_count": 5,
   "metadata": {},
   "outputs": [
    {
     "data": {
      "text/plain": [
       "{'coord': {'lon': -71.0598, 'lat': 42.3584},\n",
       " 'weather': [{'id': 804,\n",
       "   'main': 'Clouds',\n",
       "   'description': 'overcast clouds',\n",
       "   'icon': '04n'}],\n",
       " 'base': 'stations',\n",
       " 'main': {'temp': 298.81,\n",
       "  'feels_like': 299.21,\n",
       "  'temp_min': 296.42,\n",
       "  'temp_max': 300.4,\n",
       "  'pressure': 1016,\n",
       "  'humidity': 68},\n",
       " 'visibility': 10000,\n",
       " 'wind': {'speed': 3.13, 'deg': 294, 'gust': 6.26},\n",
       " 'clouds': {'all': 100},\n",
       " 'dt': 1628383509,\n",
       " 'sys': {'type': 2,\n",
       "  'id': 2013408,\n",
       "  'country': 'US',\n",
       "  'sunrise': 1628329394,\n",
       "  'sunset': 1628380606},\n",
       " 'timezone': -14400,\n",
       " 'id': 4930956,\n",
       " 'name': 'Boston',\n",
       " 'cod': 200}"
      ]
     },
     "execution_count": 5,
     "metadata": {},
     "output_type": "execute_result"
    }
   ],
   "source": [
    "city = 'boston'\n",
    "url = \"http://api.openweathermap.org/data/2.5/weather?q=\" + city +\"&appid=\" + weather_api_key\n",
    "response = requests.get(url)\n",
    "d2 = json.loads(response.text)\n",
    "d2"
   ]
  },
  {
   "cell_type": "code",
   "execution_count": 6,
   "metadata": {},
   "outputs": [],
   "source": [
    "dd = {}\n",
    "dd['City'] = []\n",
    "dd['Lat'] = []\n",
    "dd['Lon'] = []\n",
    "dd['Temp'] = []\n",
    "dd['Humidity'] = []\n",
    "dd['Cloudiness'] =[]\n",
    "dd['Wind Speed'] =[]\n",
    "dd['Country'] = []\n",
    "dd['Date'] =[]"
   ]
  },
  {
   "cell_type": "code",
   "execution_count": 7,
   "metadata": {
    "scrolled": true
   },
   "outputs": [
    {
     "name": "stdout",
     "output_type": "stream",
     "text": [
      "tsihombe\n",
      "ERROR: tsihombe\n",
      "taolanaro\n",
      "ERROR: taolanaro\n",
      "pacific grove\n",
      "hermanus\n",
      "dharchula\n",
      "lompoc\n",
      "ponta do sol\n",
      "chernyshevskiy\n",
      "illoqqortoormiut\n",
      "ERROR: illoqqortoormiut\n",
      "qaanaaq\n",
      "lascahobas\n",
      "norman wells\n",
      "do rud\n",
      "ERROR: do rud\n",
      "atuona\n",
      "dolores\n",
      "vaini\n",
      "bethel\n",
      "saint-philippe\n",
      "hobart\n",
      "novo aripuana\n",
      "berbera\n",
      "sulangan\n",
      "tuktoyaktuk\n",
      "tautira\n",
      "galway\n",
      "severo-kurilsk\n",
      "urazovka\n",
      "tiksi\n",
      "cape town\n",
      "cherskiy\n",
      "iqaluit\n",
      "kapaa\n",
      "imbituba\n",
      "rikitea\n",
      "hilo\n",
      "mataura\n",
      "acapulco\n",
      "ganzhou\n",
      "paradwip\n",
      "ERROR: paradwip\n",
      "nouakchott\n",
      "ushuaia\n",
      "san vicente de canete\n",
      "sorland\n",
      "kruisfontein\n",
      "takoradi\n",
      "albany\n",
      "andra\n",
      "east london\n",
      "beloha\n",
      "avarua\n",
      "souillac\n",
      "narrabri\n",
      "vestmannaeyjar\n",
      "barentsburg\n",
      "ERROR: barentsburg\n",
      "riverton\n",
      "santa maria da vitoria\n",
      "carnarvon\n",
      "geraldton\n",
      "yellowknife\n",
      "victoria\n",
      "sentyabrskiy\n",
      "ERROR: sentyabrskiy\n",
      "arraial do cabo\n",
      "dzhusaly\n",
      "ERROR: dzhusaly\n",
      "fairbanks\n",
      "deputatskiy\n",
      "paamiut\n",
      "clyde river\n",
      "tremedal\n",
      "ancud\n",
      "dwarka\n",
      "grand-santi\n",
      "jamestown\n",
      "brahmapuri\n",
      "ERROR: brahmapuri\n",
      "cedar city\n",
      "busselton\n",
      "jiayuguan\n",
      "shelburne\n",
      "nador\n",
      "havelock\n",
      "mucurapo\n",
      "bredasdorp\n",
      "hopelchen\n",
      "upernavik\n",
      "trairi\n",
      "new norfolk\n",
      "soltsy\n",
      "nikolskoye\n",
      "shubarkuduk\n",
      "kanniyakumari\n",
      "nouadhibou\n",
      "maceio\n",
      "hofn\n",
      "butaritari\n",
      "leningradskiy\n",
      "oktyabrskoye\n",
      "griffith\n",
      "san quintin\n",
      "mbalmayo\n",
      "isla vista\n",
      "beyneu\n",
      "talnakh\n",
      "liniere\n",
      "ERROR: liniere\n",
      "half moon bay\n",
      "karamea\n",
      "ERROR: karamea\n",
      "ketchikan\n",
      "necochea\n",
      "pagman\n",
      "ERROR: pagman\n",
      "faya\n",
      "walvis bay\n",
      "airai\n",
      "punta arenas\n",
      "ahipara\n",
      "torbay\n",
      "abalak\n",
      "port elizabeth\n",
      "tasiilaq\n",
      "bluff\n",
      "mys shmidta\n",
      "ERROR: mys shmidta\n",
      "kouango\n",
      "faanui\n",
      "kununurra\n",
      "xai-xai\n",
      "tukrah\n",
      "maldonado\n",
      "bengkulu\n",
      "rocha\n",
      "krasnokamsk\n",
      "pisco\n",
      "dublin\n",
      "grand gaube\n",
      "tapaua\n",
      "ERROR: tapaua\n",
      "coruripe\n",
      "jalingo\n",
      "alofi\n",
      "portland\n",
      "maloshuyka\n",
      "ERROR: maloshuyka\n",
      "yuzhne\n",
      "nizhniy tsasuchey\n",
      "cayenne\n",
      "belushya guba\n",
      "ERROR: belushya guba\n",
      "fuzhou\n",
      "septemvri\n",
      "abu samrah\n",
      "lubango\n",
      "poum\n",
      "banda aceh\n",
      "mufumbwe\n",
      "kenai\n",
      "rauma\n",
      "ruatoria\n",
      "ERROR: ruatoria\n",
      "korla\n",
      "saskylakh\n",
      "chanute\n",
      "poso\n",
      "honiara\n",
      "chuy\n",
      "carballo\n",
      "verkhnyachka\n",
      "port alfred\n",
      "cockburn town\n",
      "sistranda\n",
      "sikonge\n",
      "mehamn\n",
      "puerto ayora\n",
      "barrow\n",
      "tuatapere\n",
      "eyemouth\n",
      "isangel\n",
      "abu dhabi\n",
      "mnogovershinnyy\n",
      "san patricio\n",
      "krasnyy oktyabr\n",
      "hluti\n",
      "sakakah\n",
      "sinnamary\n",
      "mahebourg\n",
      "hasaki\n",
      "sao miguel do araguaia\n",
      "mao\n",
      "tyup\n",
      "lisakovsk\n",
      "najran\n",
      "hammerfest\n",
      "muana\n",
      "khatanga\n",
      "kavieng\n",
      "powell\n",
      "medina\n",
      "touros\n",
      "fortuna\n",
      "ayagoz\n",
      "chicama\n",
      "thompson\n",
      "olga\n",
      "saint anthony\n",
      "vardo\n",
      "puerto gaitan\n",
      "benguela\n",
      "luanda\n",
      "naze\n",
      "hambantota\n",
      "sobolevo\n",
      "namibe\n",
      "boa vista\n",
      "puerto escondido\n",
      "itoman\n",
      "petropavlovsk-kamchatskiy\n",
      "marathopolis\n",
      "ERROR: marathopolis\n",
      "kungurtug\n",
      "pandan\n",
      "killybegs\n",
      "sambava\n",
      "vao\n",
      "bolungarvik\n",
      "ERROR: bolungarvik\n",
      "karamay\n",
      "ERROR: karamay\n",
      "marathon\n",
      "mechetinskaya\n",
      "kodiak\n",
      "rengasdengklok\n",
      "yeppoon\n",
      "touho\n",
      "sao filipe\n",
      "kralendijk\n",
      "sur\n",
      "seoul\n",
      "ixtapa\n",
      "dikson\n",
      "mar del plata\n",
      "wewak\n",
      "peniche\n",
      "donskoye\n",
      "puerto baquerizo moreno\n",
      "margherita di savoia\n",
      "hokitika\n",
      "haines junction\n",
      "alberton\n",
      "monrovia\n",
      "mendahara\n",
      "ERROR: mendahara\n",
      "yevsino\n",
      "samusu\n",
      "ERROR: samusu\n",
      "fort stewart\n",
      "klaksvik\n",
      "yarada\n",
      "dukat\n",
      "mount gambier\n",
      "castro\n",
      "coquimbo\n",
      "beringovskiy\n",
      "honolulu\n",
      "yershov\n",
      "roma\n",
      "saint-paul\n",
      "te anau\n",
      "constitucion\n",
      "port lincoln\n",
      "gigmoto\n",
      "richards bay\n",
      "karkaralinsk\n",
      "ERROR: karkaralinsk\n",
      "hithadhoo\n",
      "quelimane\n",
      "sitka\n",
      "hun\n",
      "bacolod\n",
      "guerrero negro\n",
      "icod de los vinos\n",
      "rock springs\n",
      "berezovyy\n",
      "oranjemund\n",
      "waingapu\n",
      "orje\n",
      "nanortalik\n",
      "belaya gora\n",
      "tazovskiy\n",
      "acarau\n",
      "hamilton\n",
      "miri\n",
      "nanchang\n",
      "roebourne\n",
      "les cayes\n",
      "nizhneyansk\n",
      "ERROR: nizhneyansk\n",
      "viedma\n",
      "jaciara\n",
      "charters towers\n",
      "venado tuerto\n",
      "paka\n",
      "mitu\n",
      "lebu\n",
      "kampot\n",
      "diapaga\n",
      "bandar-e lengeh\n",
      "auriflama\n",
      "panguna\n",
      "guarapari\n",
      "olafsvik\n",
      "pozhva\n",
      "sayat\n",
      "matara\n",
      "mbini\n",
      "vila\n",
      "ust-ilimsk\n",
      "kharovsk\n",
      "san jeronimo\n",
      "stephenville\n",
      "mandalgovi\n",
      "bouca\n",
      "aklavik\n",
      "pathein\n",
      "ambilobe\n",
      "grand river south east\n",
      "ERROR: grand river south east\n",
      "rosetta\n",
      "yuyao\n",
      "nantucket\n",
      "tambovka\n",
      "grindavik\n",
      "arles\n",
      "kudahuvadhoo\n",
      "kahului\n",
      "eureka\n",
      "ust-tsilma\n",
      "juli\n",
      "santiago\n",
      "meru\n",
      "vanavara\n",
      "saint andrews\n",
      "buqayq\n",
      "ERROR: buqayq\n",
      "ostersund\n",
      "novobirilyussy\n",
      "the valley\n",
      "caravelas\n",
      "kamenskoye\n",
      "ERROR: kamenskoye\n",
      "chokurdakh\n",
      "launceston\n",
      "xiongshi\n",
      "ERROR: xiongshi\n",
      "sumoto\n",
      "cocobeach\n",
      "luderitz\n",
      "dzilam gonzalez\n",
      "razdolinsk\n",
      "porto walter\n",
      "labuhan\n",
      "lucapa\n",
      "hunza\n",
      "ERROR: hunza\n",
      "saleaula\n",
      "ERROR: saleaula\n",
      "christchurch\n",
      "tungor\n",
      "dakoro\n",
      "mumford\n",
      "provideniya\n",
      "contramaestre\n",
      "cabo san lucas\n",
      "saldanha\n",
      "decatur\n",
      "lafiagi\n",
      "ribeira grande\n",
      "portobelo\n",
      "plainfield\n",
      "alamogordo\n",
      "hobyo\n",
      "el alto\n",
      "chapais\n",
      "copiapo\n",
      "astoria\n",
      "barawe\n",
      "ERROR: barawe\n",
      "hearst\n",
      "oistins\n",
      "coihaique\n",
      "smidovich\n",
      "nelson bay\n",
      "moose factory\n",
      "bambous virieux\n",
      "bonnyville\n",
      "carlisle\n",
      "marsh harbour\n",
      "chestermere\n",
      "broken hill\n",
      "birjand\n",
      "quepos\n",
      "baruun-urt\n",
      "gouyave\n",
      "bulgan\n",
      "san cristobal\n",
      "avera\n",
      "narsaq\n",
      "coahuayana\n",
      "wanaka\n",
      "scarborough\n",
      "amderma\n",
      "ERROR: amderma\n",
      "ostrovnoy\n",
      "indri\n",
      "nurota\n",
      "san miguel\n",
      "mount isa\n",
      "sampit\n",
      "rawson\n",
      "paita\n",
      "port-gentil\n",
      "pevek\n",
      "umm lajj\n",
      "georgetown\n",
      "tura\n",
      "tyukalinsk\n",
      "ambon\n",
      "bud\n",
      "awbari\n",
      "oksfjord\n",
      "aswan\n",
      "saint-michel-des-saints\n",
      "marcona\n",
      "ERROR: marcona\n",
      "bonavista\n",
      "attawapiskat\n",
      "ERROR: attawapiskat\n",
      "hauterive\n",
      "nome\n",
      "aksha\n",
      "tanout\n",
      "zhanaozen\n",
      "bowen\n",
      "huarmey\n",
      "pangoa\n",
      "cidreira\n",
      "havoysund\n",
      "bagnes\n",
      "gawler\n",
      "mizdah\n",
      "pahrump\n",
      "valparaiso\n",
      "powell river\n",
      "santa marta\n",
      "saint george\n",
      "tsienyane\n",
      "ERROR: tsienyane\n",
      "muros\n",
      "quchan\n",
      "sao joao da barra\n",
      "ilulissat\n",
      "la libertad\n",
      "tiarei\n",
      "dunmore town\n",
      "chakwal\n",
      "biskamzha\n",
      "namatanai\n",
      "kazerun\n",
      "bac lieu\n",
      "kachiry\n",
      "batticaloa\n",
      "fort nelson\n",
      "suntar\n",
      "urucui\n",
      "kuraymah\n",
      "erzin\n",
      "jalu\n",
      "noshiro\n",
      "praia da vitoria\n",
      "ginir\n",
      "vangaindrano\n",
      "nuevo casas grandes\n",
      "chynadiyovo\n",
      "kaitangata\n",
      "laguna\n",
      "antofagasta\n",
      "salalah\n",
      "moron\n",
      "wakkanai\n",
      "honningsvag\n",
      "nabire\n",
      "krapivinskiy\n",
      "san jose de guanipa\n",
      "conceicao do araguaia\n",
      "turayf\n",
      "porto novo\n",
      "kendari\n",
      "samur\n",
      "esperance\n",
      "severodvinsk\n",
      "karratha\n",
      "zhigansk\n",
      "longyearbyen\n",
      "akdepe\n",
      "udachnyy\n",
      "meulaboh\n",
      "dunedin\n",
      "pombas\n",
      "vicosa do ceara\n",
      "nerchinskiy zavod\n",
      "placerville\n",
      "santa fe\n",
      "coreau\n",
      "dalvik\n",
      "ganta\n",
      "joshimath\n",
      "canton\n",
      "marsa matruh\n",
      "dumai\n",
      "kegayli\n",
      "ERROR: kegayli\n",
      "sao felix do xingu\n",
      "puerto colombia\n",
      "marand\n",
      "porbandar\n",
      "tselina\n",
      "sibu\n",
      "shihezi\n",
      "batemans bay\n",
      "shcholkine\n",
      "ERROR: shcholkine\n",
      "camocim\n",
      "veraval\n",
      "hirara\n",
      "tottori\n",
      "gorey\n",
      "ulagan\n",
      "karlstad\n",
      "buala\n",
      "brigantine\n",
      "bolshaya sosnova\n",
      "lolua\n",
      "ERROR: lolua\n",
      "kushima\n",
      "shingu\n",
      "maumere\n",
      "rusape\n",
      "kaeo\n",
      "broome\n",
      "marsabit\n",
      "sovetskiy\n",
      "itarema\n",
      "sataua\n",
      "ERROR: sataua\n",
      "erenhot\n",
      "balkanabat\n",
      "yumen\n",
      "westport\n",
      "saint-pierre\n",
      "antioquia\n",
      "kalomo\n",
      "ERROR: kalomo\n",
      "hinton\n",
      "burnie\n",
      "anacortes\n",
      "asau\n",
      "chino valley\n",
      "tumannyy\n",
      "ERROR: tumannyy\n",
      "motul\n",
      "bakchar\n",
      "oblivskaya\n",
      "sisimiut\n",
      "digha\n",
      "cayeli\n",
      "abaza\n",
      "laiagam\n",
      "ERROR: laiagam\n",
      "saint-joseph\n",
      "nuevo progreso\n",
      "kyabe\n",
      "muravlenko\n",
      "jomalig\n",
      "ERROR: jomalig\n",
      "seymchan\n",
      "viransehir\n",
      "baykit\n",
      "kurumkan\n",
      "aqtobe\n",
      "montepuez\n",
      "mount pleasant\n",
      "lavumisa\n",
      "shchelyayur\n",
      "ERROR: shchelyayur\n",
      "dingle\n",
      "villamontes\n",
      "sasaram\n",
      "cap malheureux\n",
      "yatou\n",
      "lorengau\n",
      "katsuura\n",
      "kallithea\n",
      "katangli\n",
      "hvide sande\n",
      "tapes\n",
      "biak\n",
      "vanimo\n",
      "hermiston\n",
      "tessalit\n",
      "serenje\n",
      "rock sound\n",
      "lima\n",
      "huazolotitlan\n",
      "ERROR: huazolotitlan\n",
      "meyungs\n",
      "ERROR: meyungs\n",
      "kiboga\n",
      "cansancao\n",
      "sinegorye\n",
      "show low\n",
      "port hardy\n",
      "berdigestyakh\n",
      "khonuu\n",
      "ERROR: khonuu\n",
      "piacabucu\n",
      "koungou\n",
      "saint-augustin\n",
      "batagay\n",
      "wum\n",
      "ballina\n",
      "hegang\n",
      "saint austell\n",
      "linjiang\n",
      "camopi\n",
      "makakilo city\n",
      "jiaojiang\n",
      "qaqortoq\n",
      "uwayl\n",
      "ERROR: uwayl\n",
      "roswell\n",
      "mayumba\n",
      "udayagiri\n",
      "chengmai\n",
      "ERROR: chengmai\n",
      "amapa\n",
      "brae\n",
      "napasar\n",
      "azimur\n",
      "ERROR: azimur\n",
      "pangody\n",
      "port keats\n",
      "bonthe\n",
      "poronaysk\n",
      "manaure\n",
      "verkhoyansk\n",
      "mahajanga\n",
      "slave lake\n",
      "boissevain\n",
      "itabira\n",
      "sumenep\n",
      "karaul\n",
      "ERROR: karaul\n",
      "ahuimanu\n"
     ]
    }
   ],
   "source": [
    "# City\tLat\tLng\tMax Temp\tHumidity\tCloudiness\tWind Speed\tCountry\tDate\n",
    "for city in cities:\n",
    "    time.sleep(.1) # sleep 100 ms\n",
    "    url = \"http://api.openweathermap.org/data/2.5/weather?q=\" + city +\"&appid=\" + weather_api_key\n",
    "    print(city)\n",
    "    response = requests.get(url)\n",
    "    if response.status_code == 200:\n",
    "        d = json.loads(response.text)\n",
    "        dd['City'].append(d['name'])\n",
    "        dd['Lat'].append( d['coord']['lat'] )\n",
    "        dd['Lon'].append( d['coord']['lon'] )\n",
    "        dd['Temp'].append( d['main']['temp'] )\n",
    "        dd['Humidity'].append( d['main']['humidity'])\n",
    "        dd['Cloudiness'].append(d['clouds']['all'])\n",
    "        dd['Wind Speed'].append(d['wind']['speed'])\n",
    "        dd['Country'].append(d['sys']['country'])\n",
    "        dd['Date'].append(d['dt'])\n",
    "    else:\n",
    "        print('ERROR:', city)"
   ]
  },
  {
   "cell_type": "code",
   "execution_count": 8,
   "metadata": {},
   "outputs": [
    {
     "data": {
      "text/plain": [
       "568"
      ]
     },
     "execution_count": 8,
     "metadata": {},
     "output_type": "execute_result"
    }
   ],
   "source": [
    "len(dd['City'])"
   ]
  },
  {
   "cell_type": "markdown",
   "metadata": {},
   "source": [
    "### Convert Raw Data to DataFrame\n",
    "* Export the city data into a .csv.\n",
    "* Display the DataFrame"
   ]
  },
  {
   "cell_type": "code",
   "execution_count": 9,
   "metadata": {
    "scrolled": true
   },
   "outputs": [
    {
     "data": {
      "text/html": [
       "<div>\n",
       "<style scoped>\n",
       "    .dataframe tbody tr th:only-of-type {\n",
       "        vertical-align: middle;\n",
       "    }\n",
       "\n",
       "    .dataframe tbody tr th {\n",
       "        vertical-align: top;\n",
       "    }\n",
       "\n",
       "    .dataframe thead th {\n",
       "        text-align: right;\n",
       "    }\n",
       "</style>\n",
       "<table border=\"1\" class=\"dataframe\">\n",
       "  <thead>\n",
       "    <tr style=\"text-align: right;\">\n",
       "      <th></th>\n",
       "      <th>City</th>\n",
       "      <th>Lat</th>\n",
       "      <th>Lon</th>\n",
       "      <th>Temp</th>\n",
       "      <th>Humidity</th>\n",
       "      <th>Cloudiness</th>\n",
       "      <th>Wind Speed</th>\n",
       "      <th>Country</th>\n",
       "      <th>Date</th>\n",
       "    </tr>\n",
       "  </thead>\n",
       "  <tbody>\n",
       "    <tr>\n",
       "      <th>0</th>\n",
       "      <td>Pacific Grove</td>\n",
       "      <td>36.6177</td>\n",
       "      <td>-121.9166</td>\n",
       "      <td>290.29</td>\n",
       "      <td>83</td>\n",
       "      <td>20</td>\n",
       "      <td>0.45</td>\n",
       "      <td>US</td>\n",
       "      <td>1628383718</td>\n",
       "    </tr>\n",
       "    <tr>\n",
       "      <th>1</th>\n",
       "      <td>Hermanus</td>\n",
       "      <td>-34.4187</td>\n",
       "      <td>19.2345</td>\n",
       "      <td>281.93</td>\n",
       "      <td>67</td>\n",
       "      <td>85</td>\n",
       "      <td>2.00</td>\n",
       "      <td>ZA</td>\n",
       "      <td>1628383612</td>\n",
       "    </tr>\n",
       "    <tr>\n",
       "      <th>2</th>\n",
       "      <td>Dhārchula</td>\n",
       "      <td>29.8500</td>\n",
       "      <td>80.5333</td>\n",
       "      <td>296.31</td>\n",
       "      <td>90</td>\n",
       "      <td>99</td>\n",
       "      <td>0.59</td>\n",
       "      <td>IN</td>\n",
       "      <td>1628384033</td>\n",
       "    </tr>\n",
       "    <tr>\n",
       "      <th>3</th>\n",
       "      <td>Lompoc</td>\n",
       "      <td>34.6391</td>\n",
       "      <td>-120.4579</td>\n",
       "      <td>293.24</td>\n",
       "      <td>73</td>\n",
       "      <td>1</td>\n",
       "      <td>5.14</td>\n",
       "      <td>US</td>\n",
       "      <td>1628383697</td>\n",
       "    </tr>\n",
       "    <tr>\n",
       "      <th>4</th>\n",
       "      <td>Ponta do Sol</td>\n",
       "      <td>32.6667</td>\n",
       "      <td>-17.1000</td>\n",
       "      <td>294.60</td>\n",
       "      <td>88</td>\n",
       "      <td>59</td>\n",
       "      <td>2.36</td>\n",
       "      <td>PT</td>\n",
       "      <td>1628383391</td>\n",
       "    </tr>\n",
       "    <tr>\n",
       "      <th>...</th>\n",
       "      <td>...</td>\n",
       "      <td>...</td>\n",
       "      <td>...</td>\n",
       "      <td>...</td>\n",
       "      <td>...</td>\n",
       "      <td>...</td>\n",
       "      <td>...</td>\n",
       "      <td>...</td>\n",
       "      <td>...</td>\n",
       "    </tr>\n",
       "    <tr>\n",
       "      <th>563</th>\n",
       "      <td>Slave Lake</td>\n",
       "      <td>55.2834</td>\n",
       "      <td>-114.7690</td>\n",
       "      <td>288.14</td>\n",
       "      <td>67</td>\n",
       "      <td>90</td>\n",
       "      <td>9.77</td>\n",
       "      <td>CA</td>\n",
       "      <td>1628384267</td>\n",
       "    </tr>\n",
       "    <tr>\n",
       "      <th>564</th>\n",
       "      <td>Boissevain</td>\n",
       "      <td>49.2306</td>\n",
       "      <td>-100.0559</td>\n",
       "      <td>299.43</td>\n",
       "      <td>21</td>\n",
       "      <td>5</td>\n",
       "      <td>3.10</td>\n",
       "      <td>CA</td>\n",
       "      <td>1628384268</td>\n",
       "    </tr>\n",
       "    <tr>\n",
       "      <th>565</th>\n",
       "      <td>Itabira</td>\n",
       "      <td>-19.6192</td>\n",
       "      <td>-43.2269</td>\n",
       "      <td>284.06</td>\n",
       "      <td>96</td>\n",
       "      <td>94</td>\n",
       "      <td>0.59</td>\n",
       "      <td>BR</td>\n",
       "      <td>1628384268</td>\n",
       "    </tr>\n",
       "    <tr>\n",
       "      <th>566</th>\n",
       "      <td>Sumenep</td>\n",
       "      <td>-7.0167</td>\n",
       "      <td>113.8667</td>\n",
       "      <td>302.00</td>\n",
       "      <td>72</td>\n",
       "      <td>100</td>\n",
       "      <td>6.85</td>\n",
       "      <td>ID</td>\n",
       "      <td>1628384268</td>\n",
       "    </tr>\n",
       "    <tr>\n",
       "      <th>567</th>\n",
       "      <td>‘Āhuimanu</td>\n",
       "      <td>21.4447</td>\n",
       "      <td>-157.8378</td>\n",
       "      <td>301.30</td>\n",
       "      <td>66</td>\n",
       "      <td>0</td>\n",
       "      <td>7.22</td>\n",
       "      <td>US</td>\n",
       "      <td>1628384269</td>\n",
       "    </tr>\n",
       "  </tbody>\n",
       "</table>\n",
       "<p>568 rows × 9 columns</p>\n",
       "</div>"
      ],
      "text/plain": [
       "              City      Lat       Lon    Temp  Humidity  Cloudiness  \\\n",
       "0    Pacific Grove  36.6177 -121.9166  290.29        83          20   \n",
       "1         Hermanus -34.4187   19.2345  281.93        67          85   \n",
       "2        Dhārchula  29.8500   80.5333  296.31        90          99   \n",
       "3           Lompoc  34.6391 -120.4579  293.24        73           1   \n",
       "4     Ponta do Sol  32.6667  -17.1000  294.60        88          59   \n",
       "..             ...      ...       ...     ...       ...         ...   \n",
       "563     Slave Lake  55.2834 -114.7690  288.14        67          90   \n",
       "564     Boissevain  49.2306 -100.0559  299.43        21           5   \n",
       "565        Itabira -19.6192  -43.2269  284.06        96          94   \n",
       "566        Sumenep  -7.0167  113.8667  302.00        72         100   \n",
       "567      ‘Āhuimanu  21.4447 -157.8378  301.30        66           0   \n",
       "\n",
       "     Wind Speed Country        Date  \n",
       "0          0.45      US  1628383718  \n",
       "1          2.00      ZA  1628383612  \n",
       "2          0.59      IN  1628384033  \n",
       "3          5.14      US  1628383697  \n",
       "4          2.36      PT  1628383391  \n",
       "..          ...     ...         ...  \n",
       "563        9.77      CA  1628384267  \n",
       "564        3.10      CA  1628384268  \n",
       "565        0.59      BR  1628384268  \n",
       "566        6.85      ID  1628384268  \n",
       "567        7.22      US  1628384269  \n",
       "\n",
       "[568 rows x 9 columns]"
      ]
     },
     "execution_count": 9,
     "metadata": {},
     "output_type": "execute_result"
    }
   ],
   "source": [
    "df = pd.DataFrame(dd)\n",
    "df"
   ]
  },
  {
   "cell_type": "code",
   "execution_count": 10,
   "metadata": {},
   "outputs": [],
   "source": [
    "df.to_csv(\"weather.csv\", index=False)"
   ]
  },
  {
   "cell_type": "markdown",
   "metadata": {},
   "source": [
    "## Inspect the data and remove the cities where the humidity > 100%.\n",
    "----\n",
    "Skip this step if there are no cities that have humidity > 100%. "
   ]
  },
  {
   "cell_type": "code",
   "execution_count": 11,
   "metadata": {},
   "outputs": [
    {
     "data": {
      "text/html": [
       "<div>\n",
       "<style scoped>\n",
       "    .dataframe tbody tr th:only-of-type {\n",
       "        vertical-align: middle;\n",
       "    }\n",
       "\n",
       "    .dataframe tbody tr th {\n",
       "        vertical-align: top;\n",
       "    }\n",
       "\n",
       "    .dataframe thead th {\n",
       "        text-align: right;\n",
       "    }\n",
       "</style>\n",
       "<table border=\"1\" class=\"dataframe\">\n",
       "  <thead>\n",
       "    <tr style=\"text-align: right;\">\n",
       "      <th></th>\n",
       "      <th>City</th>\n",
       "      <th>Lat</th>\n",
       "      <th>Lon</th>\n",
       "      <th>Temp</th>\n",
       "      <th>Humidity</th>\n",
       "      <th>Cloudiness</th>\n",
       "      <th>Wind Speed</th>\n",
       "      <th>Country</th>\n",
       "      <th>Date</th>\n",
       "    </tr>\n",
       "  </thead>\n",
       "  <tbody>\n",
       "  </tbody>\n",
       "</table>\n",
       "</div>"
      ],
      "text/plain": [
       "Empty DataFrame\n",
       "Columns: [City, Lat, Lon, Temp, Humidity, Cloudiness, Wind Speed, Country, Date]\n",
       "Index: []"
      ]
     },
     "execution_count": 11,
     "metadata": {},
     "output_type": "execute_result"
    }
   ],
   "source": [
    "df[df[\"Humidity\"] > 100]"
   ]
  },
  {
   "cell_type": "markdown",
   "metadata": {},
   "source": [
    "## Plotting the Data\n",
    "* Use proper labeling of the plots using plot titles (including date of analysis) and axes labels.\n",
    "* Save the plotted figures as .pngs."
   ]
  },
  {
   "cell_type": "markdown",
   "metadata": {},
   "source": [
    "## Latitude vs. Temperature Plot"
   ]
  },
  {
   "cell_type": "code",
   "execution_count": 12,
   "metadata": {},
   "outputs": [
    {
     "data": {
      "image/png": "[encoded data removed]",
      "text/plain": [
       "<Figure size 432x288 with 1 Axes>"
      ]
     },
     "metadata": {
      "needs_background": "light"
     },
     "output_type": "display_data"
    }
   ],
   "source": [
    "# The code in this cell is analyzing temperature of the city based on its latitude\n",
    "df.plot('Lat', 'Temp', kind='scatter');"
   ]
  },
  {
   "cell_type": "markdown",
   "metadata": {},
   "source": [
    "## Latitude vs. Humidity Plot"
   ]
  },
  {
   "cell_type": "code",
   "execution_count": 13,
   "metadata": {},
   "outputs": [
    {
     "data": {
      "image/png": "[encoded data removed]",
      "text/plain": [
       "<Figure size 432x288 with 1 Axes>"
      ]
     },
     "metadata": {
      "needs_background": "light"
     },
     "output_type": "display_data"
    }
   ],
   "source": [
    "# The code in this cell is analyzing humidity of the city based on its latitude\n",
    "df.plot('Lat', 'Humidity', kind='scatter');"
   ]
  },
  {
   "cell_type": "markdown",
   "metadata": {},
   "source": [
    "## Latitude vs. Cloudiness Plot"
   ]
  },
  {
   "cell_type": "code",
   "execution_count": 14,
   "metadata": {},
   "outputs": [
    {
     "data": {
      "image/png": "[encoded data removed]",
      "text/plain": [
       "<Figure size 432x288 with 1 Axes>"
      ]
     },
     "metadata": {
      "needs_background": "light"
     },
     "output_type": "display_data"
    }
   ],
   "source": [
    "# The code in this cell is analyzing cloudiness of the city based on its latitude\n",
    "df.plot('Lat', 'Cloudiness', kind='scatter');"
   ]
  },
  {
   "cell_type": "markdown",
   "metadata": {},
   "source": [
    "## Latitude vs. Wind Speed Plot"
   ]
  },
  {
   "cell_type": "code",
   "execution_count": 15,
   "metadata": {
    "scrolled": true
   },
   "outputs": [
    {
     "data": {
      "image/png": "[encoded data removed]",
      "text/plain": [
       "<Figure size 432x288 with 1 Axes>"
      ]
     },
     "metadata": {
      "needs_background": "light"
     },
     "output_type": "display_data"
    }
   ],
   "source": [
    "# The code in this cell is analyzing wind speed of the city based on its latitude\n",
    "df.plot('Lat', 'Wind Speed', kind='scatter');"
   ]
  },
  {
   "cell_type": "markdown",
   "metadata": {},
   "source": [
    "## Linear Regression"
   ]
  },
  {
   "cell_type": "code",
   "execution_count": 16,
   "metadata": {},
   "outputs": [],
   "source": [
    "df_north = df[df[\"Lat\"] >= 0]\n",
    "df_south = df[df[\"Lat\"] < 0]"
   ]
  },
  {
   "cell_type": "markdown",
   "metadata": {},
   "source": [
    "####  Northern Hemisphere - Temp vs. Latitude Linear Regression\n",
    "\n",
    "There is a moderate negative correlation between temperature and latitude in the northern hemisphere"
   ]
  },
  {
   "cell_type": "code",
   "execution_count": 17,
   "metadata": {},
   "outputs": [
    {
     "name": "stdout",
     "output_type": "stream",
     "text": [
      "The r-value is -0.6649357853347647\n"
     ]
    },
    {
     "data": {
      "image/png": "[encoded data removed]",
      "text/plain": [
       "<Figure size 432x288 with 1 Axes>"
      ]
     },
     "metadata": {
      "needs_background": "light"
     },
     "output_type": "display_data"
    }
   ],
   "source": [
    "x_values = df_north['Lat']\n",
    "y_values = df_north['Temp']\n",
    "(slope, intercept, rvalue, pvalue, stderr) = linregress(x_values, y_values)\n",
    "print(\"The r-value is\", rvalue)\n",
    "regress_values = x_values * slope + intercept\n",
    "line_eq = \"y = \" + str(round(slope,2)) + \"x + \" + str(round(intercept,2))\n",
    "plt.scatter(x_values,y_values)\n",
    "plt.plot(x_values,regress_values,\"r-\")\n",
    "plt.annotate(line_eq,(10,280),fontsize=15,color=\"red\")\n",
    "plt.xlabel('Latitude')\n",
    "plt.ylabel('Temperature')\n",
    "plt.title('Northern Hemisphere - Temperature (F) vs. Latitude')\n",
    "plt.show();"
   ]
  },
  {
   "cell_type": "markdown",
   "metadata": {},
   "source": [
    "####  Southern Hemisphere - Temp vs. Latitude Linear Regression\n",
    "\n",
    "There is a strong positive correlation between temperature and latitude in the southern hemisphere"
   ]
  },
  {
   "cell_type": "code",
   "execution_count": 18,
   "metadata": {},
   "outputs": [
    {
     "name": "stdout",
     "output_type": "stream",
     "text": [
      "The r-value is 0.822652641750538\n"
     ]
    },
    {
     "data": {
      "image/png": "[encoded data removed]",
      "text/plain": [
       "<Figure size 432x288 with 1 Axes>"
      ]
     },
     "metadata": {
      "needs_background": "light"
     },
     "output_type": "display_data"
    }
   ],
   "source": [
    "x_values = df_south['Lat']\n",
    "y_values = df_south['Temp']\n",
    "slope, intercept, rvalue, pvalue, stderr = linregress(x_values, y_values)\n",
    "print(\"The r-value is\", rvalue)\n",
    "regress_values = x_values * slope + intercept\n",
    "line_eq = \"y = \" + str(round(slope,2)) + \"x + \" + str(round(intercept,2))\n",
    "plt.scatter(x_values,y_values)\n",
    "plt.plot(x_values,regress_values,\"r-\")\n",
    "plt.annotate(line_eq,(-50,300),fontsize=15,color=\"red\")\n",
    "plt.xlabel('Latitude')\n",
    "plt.ylabel('Temperature')\n",
    "plt.title('Southern Hemisphere - Temperature (F) vs. Latitude')\n",
    "plt.show();"
   ]
  },
  {
   "cell_type": "markdown",
   "metadata": {},
   "source": [
    "####  Northern Hemisphere - Humidity (%) vs. Latitude Linear Regression\n",
    "\n",
    "There is little to no correlation between humidity and latitude in the northern hemisphere"
   ]
  },
  {
   "cell_type": "code",
   "execution_count": 19,
   "metadata": {},
   "outputs": [
    {
     "name": "stdout",
     "output_type": "stream",
     "text": [
      "The r-value is -0.12650085510376188\n"
     ]
    },
    {
     "data": {
      "image/png": "[encoded data removed]",
      "text/plain": [
       "<Figure size 432x288 with 1 Axes>"
      ]
     },
     "metadata": {
      "needs_background": "light"
     },
     "output_type": "display_data"
    }
   ],
   "source": [
    "x_values = df_north['Lat']\n",
    "y_values = df_north['Humidity']\n",
    "slope, intercept, rvalue, pvalue, stderr = linregress(x_values, y_values)\n",
    "print(\"The r-value is\", rvalue)\n",
    "regress_values = x_values * slope + intercept\n",
    "line_eq = \"y = \" + str(round(slope,2)) + \"x + \" + str(round(intercept,2))\n",
    "plt.scatter(x_values,y_values)\n",
    "plt.plot(x_values,regress_values,\"r-\")\n",
    "plt.annotate(line_eq,(0,20),fontsize=15,color=\"red\")\n",
    "plt.xlabel('Latitude')\n",
    "plt.ylabel('Humidity')\n",
    "plt.title('Northern Hemisphere - Humidity vs. Latitude')\n",
    "plt.show();"
   ]
  },
  {
   "cell_type": "markdown",
   "metadata": {},
   "source": [
    "####  Southern Hemisphere - Humidity (%) vs. Latitude Linear Regression\n",
    "\n",
    "There is little to no correlation between humidity and latitude in the southern hemisphere"
   ]
  },
  {
   "cell_type": "code",
   "execution_count": 20,
   "metadata": {},
   "outputs": [
    {
     "name": "stdout",
     "output_type": "stream",
     "text": [
      "The r-value is -0.10932499449342765\n"
     ]
    },
    {
     "data": {
      "image/png": "[encoded data removed]",
      "text/plain": [
       "<Figure size 432x288 with 1 Axes>"
      ]
     },
     "metadata": {
      "needs_background": "light"
     },
     "output_type": "display_data"
    }
   ],
   "source": [
    "x_values = df_south['Lat']\n",
    "y_values = df_south['Humidity']\n",
    "slope, intercept, rvalue, pvalue, stderr = linregress(x_values, y_values)\n",
    "print(\"The r-value is\", rvalue)\n",
    "regress_values = x_values * slope + intercept\n",
    "line_eq = \"y = \" + str(round(slope,2)) + \"x + \" + str(round(intercept,2))\n",
    "plt.scatter(x_values,y_values)\n",
    "plt.plot(x_values,regress_values,\"r-\")\n",
    "plt.annotate(line_eq,(-50, 20),fontsize=15,color=\"red\")\n",
    "plt.xlabel('Latitude')\n",
    "plt.ylabel('Humidity')\n",
    "plt.title('Southern Hemisphere - Humidity (F) vs. Latitude')\n",
    "plt.show();"
   ]
  },
  {
   "cell_type": "markdown",
   "metadata": {},
   "source": [
    "####  Northern Hemisphere - Cloudiness (%) vs. Latitude Linear Regression\n",
    "\n",
    "There is little to no correlation between cloudiness and latitude in the northern hemisphere"
   ]
  },
  {
   "cell_type": "code",
   "execution_count": 21,
   "metadata": {},
   "outputs": [
    {
     "name": "stdout",
     "output_type": "stream",
     "text": [
      "The r-value is -0.019185318480967963\n"
     ]
    },
    {
     "data": {
      "image/png": "[encoded data removed]",
      "text/plain": [
       "<Figure size 432x288 with 1 Axes>"
      ]
     },
     "metadata": {
      "needs_background": "light"
     },
     "output_type": "display_data"
    }
   ],
   "source": [
    "x_values = df_north['Lat']\n",
    "y_values = df_north['Cloudiness']\n",
    "slope, intercept, rvalue, pvalue, stderr = linregress(x_values, y_values)\n",
    "print(\"The r-value is\", rvalue)\n",
    "regress_values = x_values * slope + intercept\n",
    "line_eq = \"y = \" + str(round(slope,2)) + \"x + \" + str(round(intercept,2))\n",
    "plt.scatter(x_values,y_values)\n",
    "plt.plot(x_values,regress_values,\"r-\")\n",
    "plt.annotate(line_eq,(0,20),fontsize=15,color=\"red\")\n",
    "plt.xlabel('Latitude')\n",
    "plt.ylabel('Cloudiness')\n",
    "plt.title('Northern Hemisphere - Cloudiness vs. Latitude')\n",
    "plt.show();"
   ]
  },
  {
   "cell_type": "markdown",
   "metadata": {},
   "source": [
    "####  Southern Hemisphere - Cloudiness (%) vs. Latitude Linear Regression\n",
    "\n",
    "There is little to no correlation between cloudiness and latitude in the southern hemisphere"
   ]
  },
  {
   "cell_type": "code",
   "execution_count": 22,
   "metadata": {},
   "outputs": [
    {
     "name": "stdout",
     "output_type": "stream",
     "text": [
      "The r-value is -0.0681176449599412\n"
     ]
    },
    {
     "data": {
      "image/png": "[encoded data removed]",
      "text/plain": [
       "<Figure size 432x288 with 1 Axes>"
      ]
     },
     "metadata": {
      "needs_background": "light"
     },
     "output_type": "display_data"
    }
   ],
   "source": [
    "x_values = df_south['Lat']\n",
    "y_values = df_south['Cloudiness']\n",
    "slope, intercept, rvalue, pvalue, stderr = linregress(x_values, y_values)\n",
    "print(\"The r-value is\", rvalue)\n",
    "regress_values = x_values * slope + intercept\n",
    "line_eq = \"y = \" + str(round(slope,2)) + \"x + \" + str(round(intercept,2))\n",
    "plt.scatter(x_values,y_values)\n",
    "plt.plot(x_values,regress_values,\"r-\")\n",
    "plt.annotate(line_eq,(-50, 20),fontsize=15,color=\"red\")\n",
    "plt.xlabel('Latitude')\n",
    "plt.ylabel('Cloudiness')\n",
    "plt.title('Southern Hemisphere - Cloudiness vs. Latitude')\n",
    "plt.show();"
   ]
  },
  {
   "cell_type": "markdown",
   "metadata": {},
   "source": [
    "####  Northern Hemisphere - Wind Speed (mph) vs. Latitude Linear Regression\n",
    "\n",
    "There is little to no correlation between wind speed and latitude in the northern hemisphere"
   ]
  },
  {
   "cell_type": "code",
   "execution_count": 23,
   "metadata": {},
   "outputs": [
    {
     "name": "stdout",
     "output_type": "stream",
     "text": [
      "The r-value is 0.03127820897373205\n"
     ]
    },
    {
     "data": {
      "image/png": "[encoded data removed]",
      "text/plain": [
       "<Figure size 432x288 with 1 Axes>"
      ]
     },
     "metadata": {
      "needs_background": "light"
     },
     "output_type": "display_data"
    }
   ],
   "source": [
    "x_values = df_north['Lat']\n",
    "y_values = df_north['Wind Speed']\n",
    "slope, intercept, rvalue, pvalue, stderr = linregress(x_values, y_values)\n",
    "print(\"The r-value is\", rvalue)\n",
    "regress_values = x_values * slope + intercept\n",
    "line_eq = \"y = \" + str(round(slope,2)) + \"x + \" + str(round(intercept,2))\n",
    "plt.scatter(x_values,y_values)\n",
    "plt.plot(x_values,regress_values,\"r-\")\n",
    "plt.annotate(line_eq,(0,20),fontsize=15,color=\"red\")\n",
    "plt.xlabel('Latitude')\n",
    "plt.ylabel('Wind Speed')\n",
    "plt.title('Northern Hemisphere - Wind Speed vs. Latitude')\n",
    "plt.show();"
   ]
  },
  {
   "cell_type": "markdown",
   "metadata": {},
   "source": [
    "####  Southern Hemisphere - Wind Speed (mph) vs. Latitude Linear Regression\n",
    "\n",
    "There is little to no correlation between wind speed and latitude in the southern hemisphere"
   ]
  },
  {
   "cell_type": "code",
   "execution_count": 24,
   "metadata": {},
   "outputs": [
    {
     "name": "stdout",
     "output_type": "stream",
     "text": [
      "The r-value is -0.04851847371099448\n"
     ]
    },
    {
     "data": {
      "image/png": "[encoded data removed]",
      "text/plain": [
       "<Figure size 432x288 with 1 Axes>"
      ]
     },
     "metadata": {
      "needs_background": "light"
     },
     "output_type": "display_data"
    }
   ],
   "source": [
    "x_values = df_south['Lat']\n",
    "y_values = df_south['Wind Speed']\n",
    "slope, intercept, rvalue, pvalue, stderr = linregress(x_values, y_values)\n",
    "print(\"The r-value is\", rvalue)\n",
    "regress_values = x_values * slope + intercept\n",
    "line_eq = \"y = \" + str(round(slope,2)) + \"x + \" + str(round(intercept,2))\n",
    "plt.scatter(x_values,y_values)\n",
    "plt.plot(x_values,regress_values,\"r-\")\n",
    "plt.annotate(line_eq,(-50, 8),fontsize=15,color=\"red\")\n",
    "plt.xlabel('Latitude')\n",
    "plt.ylabel('Wind Speed')\n",
    "plt.title('Southern Hemisphere - Wind Speed vs. Latitude')\n",
    "plt.show();"
   ]
  }
 ],
 "metadata": {
  "anaconda-cloud": {},
  "kernel_info": {
   "name": "python3"
  },
  "kernelspec": {
   "display_name": "Python 3",
   "language": "python",
   "name": "python3"
  },
  "language_info": {
   "codemirror_mode": {
    "name": "ipython",
    "version": 3
   },
   "file_extension": ".py",
   "mimetype": "text/x-python",
   "name": "python",
   "nbconvert_exporter": "python",
   "pygments_lexer": "ipython3",
   "version": "3.8.8"
  },
  "latex_envs": {
   "LaTeX_envs_menu_present": true,
   "autoclose": false,
   "autocomplete": true,
   "bibliofile": "biblio.bib",
   "cite_by": "apalike",
   "current_citInitial": 1,
   "eqLabelWithNumbers": true,
   "eqNumInitial": 1,
   "hotkeys": {
    "equation": "Ctrl-E",
    "itemize": "Ctrl-I"
   },
   "labels_anchors": false,
   "latex_user_defs": false,
   "report_style_numbering": false,
   "user_envs_cfg": false
  },
  "nteract": {
   "version": "0.12.3"
  }
 },
 "nbformat": 4,
 "nbformat_minor": 2
}
