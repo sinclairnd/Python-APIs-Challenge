{
 "cells": [
  {
   "cell_type": "markdown",
   "metadata": {},
   "source": [
    "# VacationPy\n",
    "----\n",
    "\n",
    "#### Note\n",
    "* Keep an eye on your API usage. Use https://developers.google.com/maps/reporting/gmp-reporting as reference for how to monitor your usage and billing.\n",
    "\n",
    "* Instructions have been included for each segment. You do not have to follow them exactly, but they are included to help you think through the steps."
   ]
  },
  {
   "cell_type": "code",
   "execution_count": 1,
   "metadata": {},
   "outputs": [],
   "source": [
    "# Dependencies and Setup\n",
    "import matplotlib.pyplot as plt\n",
    "import pandas as pd\n",
    "import numpy as np\n",
    "import requests\n",
    "import gmaps\n",
    "import json\n",
    "import os\n",
    "\n",
    "# Import API key\n",
    "from api_keys import g_key"
   ]
  },
  {
   "cell_type": "code",
   "execution_count": 2,
   "metadata": {},
   "outputs": [],
   "source": [
    "# Configure gmaps\n",
    "gmaps.configure(api_key = g_key)"
   ]
  },
  {
   "cell_type": "markdown",
   "metadata": {},
   "source": [
    "### Store Part I results into DataFrame\n",
    "* Load the csv exported in Part I to a DataFrame"
   ]
  },
  {
   "cell_type": "code",
   "execution_count": 3,
   "metadata": {},
   "outputs": [],
   "source": [
    "# Create aiport dataframe\n",
    "df = pd.read_csv('weather.csv')"
   ]
  },
  {
   "cell_type": "code",
   "execution_count": 4,
   "metadata": {},
   "outputs": [
    {
     "data": {
      "text/html": [
       "<div>\n",
       "<style scoped>\n",
       "    .dataframe tbody tr th:only-of-type {\n",
       "        vertical-align: middle;\n",
       "    }\n",
       "\n",
       "    .dataframe tbody tr th {\n",
       "        vertical-align: top;\n",
       "    }\n",
       "\n",
       "    .dataframe thead th {\n",
       "        text-align: right;\n",
       "    }\n",
       "</style>\n",
       "<table border=\"1\" class=\"dataframe\">\n",
       "  <thead>\n",
       "    <tr style=\"text-align: right;\">\n",
       "      <th></th>\n",
       "      <th>City</th>\n",
       "      <th>Lat</th>\n",
       "      <th>Lon</th>\n",
       "      <th>Temp</th>\n",
       "      <th>Humidity</th>\n",
       "      <th>Cloudiness</th>\n",
       "      <th>Wind Speed</th>\n",
       "      <th>Country</th>\n",
       "      <th>Date</th>\n",
       "    </tr>\n",
       "  </thead>\n",
       "  <tbody>\n",
       "    <tr>\n",
       "      <th>0</th>\n",
       "      <td>Pacific Grove</td>\n",
       "      <td>36.6177</td>\n",
       "      <td>-121.9166</td>\n",
       "      <td>290.29</td>\n",
       "      <td>83</td>\n",
       "      <td>20</td>\n",
       "      <td>0.45</td>\n",
       "      <td>US</td>\n",
       "      <td>1628383718</td>\n",
       "    </tr>\n",
       "    <tr>\n",
       "      <th>1</th>\n",
       "      <td>Hermanus</td>\n",
       "      <td>-34.4187</td>\n",
       "      <td>19.2345</td>\n",
       "      <td>281.93</td>\n",
       "      <td>67</td>\n",
       "      <td>85</td>\n",
       "      <td>2.00</td>\n",
       "      <td>ZA</td>\n",
       "      <td>1628383612</td>\n",
       "    </tr>\n",
       "    <tr>\n",
       "      <th>2</th>\n",
       "      <td>Dhārchula</td>\n",
       "      <td>29.8500</td>\n",
       "      <td>80.5333</td>\n",
       "      <td>296.31</td>\n",
       "      <td>90</td>\n",
       "      <td>99</td>\n",
       "      <td>0.59</td>\n",
       "      <td>IN</td>\n",
       "      <td>1628384033</td>\n",
       "    </tr>\n",
       "    <tr>\n",
       "      <th>3</th>\n",
       "      <td>Lompoc</td>\n",
       "      <td>34.6391</td>\n",
       "      <td>-120.4579</td>\n",
       "      <td>293.24</td>\n",
       "      <td>73</td>\n",
       "      <td>1</td>\n",
       "      <td>5.14</td>\n",
       "      <td>US</td>\n",
       "      <td>1628383697</td>\n",
       "    </tr>\n",
       "    <tr>\n",
       "      <th>4</th>\n",
       "      <td>Ponta do Sol</td>\n",
       "      <td>32.6667</td>\n",
       "      <td>-17.1000</td>\n",
       "      <td>294.60</td>\n",
       "      <td>88</td>\n",
       "      <td>59</td>\n",
       "      <td>2.36</td>\n",
       "      <td>PT</td>\n",
       "      <td>1628383391</td>\n",
       "    </tr>\n",
       "    <tr>\n",
       "      <th>...</th>\n",
       "      <td>...</td>\n",
       "      <td>...</td>\n",
       "      <td>...</td>\n",
       "      <td>...</td>\n",
       "      <td>...</td>\n",
       "      <td>...</td>\n",
       "      <td>...</td>\n",
       "      <td>...</td>\n",
       "      <td>...</td>\n",
       "    </tr>\n",
       "    <tr>\n",
       "      <th>563</th>\n",
       "      <td>Slave Lake</td>\n",
       "      <td>55.2834</td>\n",
       "      <td>-114.7690</td>\n",
       "      <td>288.14</td>\n",
       "      <td>67</td>\n",
       "      <td>90</td>\n",
       "      <td>9.77</td>\n",
       "      <td>CA</td>\n",
       "      <td>1628384267</td>\n",
       "    </tr>\n",
       "    <tr>\n",
       "      <th>564</th>\n",
       "      <td>Boissevain</td>\n",
       "      <td>49.2306</td>\n",
       "      <td>-100.0559</td>\n",
       "      <td>299.43</td>\n",
       "      <td>21</td>\n",
       "      <td>5</td>\n",
       "      <td>3.10</td>\n",
       "      <td>CA</td>\n",
       "      <td>1628384268</td>\n",
       "    </tr>\n",
       "    <tr>\n",
       "      <th>565</th>\n",
       "      <td>Itabira</td>\n",
       "      <td>-19.6192</td>\n",
       "      <td>-43.2269</td>\n",
       "      <td>284.06</td>\n",
       "      <td>96</td>\n",
       "      <td>94</td>\n",
       "      <td>0.59</td>\n",
       "      <td>BR</td>\n",
       "      <td>1628384268</td>\n",
       "    </tr>\n",
       "    <tr>\n",
       "      <th>566</th>\n",
       "      <td>Sumenep</td>\n",
       "      <td>-7.0167</td>\n",
       "      <td>113.8667</td>\n",
       "      <td>302.00</td>\n",
       "      <td>72</td>\n",
       "      <td>100</td>\n",
       "      <td>6.85</td>\n",
       "      <td>ID</td>\n",
       "      <td>1628384268</td>\n",
       "    </tr>\n",
       "    <tr>\n",
       "      <th>567</th>\n",
       "      <td>‘Āhuimanu</td>\n",
       "      <td>21.4447</td>\n",
       "      <td>-157.8378</td>\n",
       "      <td>301.30</td>\n",
       "      <td>66</td>\n",
       "      <td>0</td>\n",
       "      <td>7.22</td>\n",
       "      <td>US</td>\n",
       "      <td>1628384269</td>\n",
       "    </tr>\n",
       "  </tbody>\n",
       "</table>\n",
       "<p>568 rows × 9 columns</p>\n",
       "</div>"
      ],
      "text/plain": [
       "              City      Lat       Lon    Temp  Humidity  Cloudiness  \\\n",
       "0    Pacific Grove  36.6177 -121.9166  290.29        83          20   \n",
       "1         Hermanus -34.4187   19.2345  281.93        67          85   \n",
       "2        Dhārchula  29.8500   80.5333  296.31        90          99   \n",
       "3           Lompoc  34.6391 -120.4579  293.24        73           1   \n",
       "4     Ponta do Sol  32.6667  -17.1000  294.60        88          59   \n",
       "..             ...      ...       ...     ...       ...         ...   \n",
       "563     Slave Lake  55.2834 -114.7690  288.14        67          90   \n",
       "564     Boissevain  49.2306 -100.0559  299.43        21           5   \n",
       "565        Itabira -19.6192  -43.2269  284.06        96          94   \n",
       "566        Sumenep  -7.0167  113.8667  302.00        72         100   \n",
       "567      ‘Āhuimanu  21.4447 -157.8378  301.30        66           0   \n",
       "\n",
       "     Wind Speed Country        Date  \n",
       "0          0.45      US  1628383718  \n",
       "1          2.00      ZA  1628383612  \n",
       "2          0.59      IN  1628384033  \n",
       "3          5.14      US  1628383697  \n",
       "4          2.36      PT  1628383391  \n",
       "..          ...     ...         ...  \n",
       "563        9.77      CA  1628384267  \n",
       "564        3.10      CA  1628384268  \n",
       "565        0.59      BR  1628384268  \n",
       "566        6.85      ID  1628384268  \n",
       "567        7.22      US  1628384269  \n",
       "\n",
       "[568 rows x 9 columns]"
      ]
     },
     "execution_count": 4,
     "metadata": {},
     "output_type": "execute_result"
    }
   ],
   "source": [
    "df"
   ]
  },
  {
   "cell_type": "markdown",
   "metadata": {},
   "source": [
    "### Create new DataFrame fitting weather criteria\n",
    "* Narrow down the cities to fit weather conditions.\n",
    "* Drop any rows will null values."
   ]
  },
  {
   "cell_type": "code",
   "execution_count": 5,
   "metadata": {},
   "outputs": [],
   "source": [
    "df_ideal = df[(df[\"Temp\"] >= 297)\n",
    "              &(df[\"Temp\"] < 300)\n",
    "              & (df[\"Wind Speed\"] < 10)\n",
    "              & (df[\"Cloudiness\"] <= 10)\n",
    "              & (df[\"Humidity\"] > 30)\n",
    "              & (df[\"Humidity\"] < 40)]"
   ]
  },
  {
   "cell_type": "code",
   "execution_count": 6,
   "metadata": {},
   "outputs": [
    {
     "data": {
      "text/html": [
       "<div>\n",
       "<style scoped>\n",
       "    .dataframe tbody tr th:only-of-type {\n",
       "        vertical-align: middle;\n",
       "    }\n",
       "\n",
       "    .dataframe tbody tr th {\n",
       "        vertical-align: top;\n",
       "    }\n",
       "\n",
       "    .dataframe thead th {\n",
       "        text-align: right;\n",
       "    }\n",
       "</style>\n",
       "<table border=\"1\" class=\"dataframe\">\n",
       "  <thead>\n",
       "    <tr style=\"text-align: right;\">\n",
       "      <th></th>\n",
       "      <th>City</th>\n",
       "      <th>Lat</th>\n",
       "      <th>Lon</th>\n",
       "      <th>Temp</th>\n",
       "      <th>Humidity</th>\n",
       "      <th>Cloudiness</th>\n",
       "      <th>Wind Speed</th>\n",
       "      <th>Country</th>\n",
       "      <th>Date</th>\n",
       "    </tr>\n",
       "  </thead>\n",
       "  <tbody>\n",
       "    <tr>\n",
       "      <th>431</th>\n",
       "      <td>Turaif</td>\n",
       "      <td>31.6725</td>\n",
       "      <td>38.6637</td>\n",
       "      <td>299.29</td>\n",
       "      <td>34</td>\n",
       "      <td>0</td>\n",
       "      <td>1.54</td>\n",
       "      <td>SA</td>\n",
       "      <td>1628384207</td>\n",
       "    </tr>\n",
       "    <tr>\n",
       "      <th>514</th>\n",
       "      <td>Villamontes</td>\n",
       "      <td>-21.2500</td>\n",
       "      <td>-63.5000</td>\n",
       "      <td>297.56</td>\n",
       "      <td>37</td>\n",
       "      <td>0</td>\n",
       "      <td>2.58</td>\n",
       "      <td>BO</td>\n",
       "      <td>1628384244</td>\n",
       "    </tr>\n",
       "  </tbody>\n",
       "</table>\n",
       "</div>"
      ],
      "text/plain": [
       "            City      Lat      Lon    Temp  Humidity  Cloudiness  Wind Speed  \\\n",
       "431       Turaif  31.6725  38.6637  299.29        34           0        1.54   \n",
       "514  Villamontes -21.2500 -63.5000  297.56        37           0        2.58   \n",
       "\n",
       "    Country        Date  \n",
       "431      SA  1628384207  \n",
       "514      BO  1628384244  "
      ]
     },
     "execution_count": 6,
     "metadata": {},
     "output_type": "execute_result"
    }
   ],
   "source": [
    "df_ideal"
   ]
  },
  {
   "cell_type": "code",
   "execution_count": 7,
   "metadata": {},
   "outputs": [
    {
     "data": {
      "text/html": [
       "<div>\n",
       "<style scoped>\n",
       "    .dataframe tbody tr th:only-of-type {\n",
       "        vertical-align: middle;\n",
       "    }\n",
       "\n",
       "    .dataframe tbody tr th {\n",
       "        vertical-align: top;\n",
       "    }\n",
       "\n",
       "    .dataframe thead th {\n",
       "        text-align: right;\n",
       "    }\n",
       "</style>\n",
       "<table border=\"1\" class=\"dataframe\">\n",
       "  <thead>\n",
       "    <tr style=\"text-align: right;\">\n",
       "      <th></th>\n",
       "      <th>Lat</th>\n",
       "      <th>Lon</th>\n",
       "    </tr>\n",
       "  </thead>\n",
       "  <tbody>\n",
       "    <tr>\n",
       "      <th>431</th>\n",
       "      <td>31.6725</td>\n",
       "      <td>38.6637</td>\n",
       "    </tr>\n",
       "    <tr>\n",
       "      <th>514</th>\n",
       "      <td>-21.2500</td>\n",
       "      <td>-63.5000</td>\n",
       "    </tr>\n",
       "  </tbody>\n",
       "</table>\n",
       "</div>"
      ],
      "text/plain": [
       "         Lat      Lon\n",
       "431  31.6725  38.6637\n",
       "514 -21.2500 -63.5000"
      ]
     },
     "execution_count": 7,
     "metadata": {},
     "output_type": "execute_result"
    }
   ],
   "source": [
    "locations = df_ideal[[\"Lat\", \"Lon\"]]\n",
    "locations"
   ]
  },
  {
   "cell_type": "markdown",
   "metadata": {},
   "source": [
    "### Humidity Heatmap\n",
    "* Configure gmaps.\n",
    "* Use the Lat and Lng as locations and Humidity as the weight.\n",
    "* Add Heatmap layer to map."
   ]
  },
  {
   "cell_type": "code",
   "execution_count": 8,
   "metadata": {},
   "outputs": [
    {
     "data": {
      "text/plain": [
       "431    34.0\n",
       "514    37.0\n",
       "Name: Humidity, dtype: float64"
      ]
     },
     "execution_count": 8,
     "metadata": {},
     "output_type": "execute_result"
    }
   ],
   "source": [
    "humidity_list = df_ideal[\"Humidity\"].astype(float)\n",
    "humidity_list"
   ]
  },
  {
   "cell_type": "code",
   "execution_count": 9,
   "metadata": {},
   "outputs": [],
   "source": [
    "cities = df_ideal[\"City\"]\n",
    "countries = df_ideal[\"Country\"]"
   ]
  },
  {
   "cell_type": "code",
   "execution_count": 12,
   "metadata": {},
   "outputs": [
    {
     "data": {
      "application/vnd.jupyter.widget-view+json": {
       "model_id": "c491bd0c1c9b4de7b3c6b6b07d8df1d0",
       "version_major": 2,
       "version_minor": 0
      },
      "text/plain": [
       "Figure(layout=FigureLayout(height='420px'))"
      ]
     },
     "metadata": {},
     "output_type": "display_data"
    }
   ],
   "source": [
    "# Plot Heatmap\n",
    "fig = gmaps.figure(map_type=\"HYBRID\")\n",
    "\n",
    "# Create heat layer\n",
    "heat_layer = gmaps.heatmap_layer(locations, weights=humidity_list, \n",
    "                                 dissipating=False, max_intensity=10,\n",
    "                                 point_radius=1)\n",
    "\n",
    "# Add layer\n",
    "fig.add_layer(heat_layer)\n",
    "\n",
    "# Display figure\n",
    "fig"
   ]
  },
  {
   "cell_type": "markdown",
   "metadata": {},
   "source": [
    "### Hotel Map\n",
    "* Store into variable named `hotel_df`.\n",
    "* Add a \"Hotel Name\" column to the DataFrame.\n",
    "* Set parameters to search for hotels with 5000 meters.\n",
    "* Hit the Google Places API for each city's coordinates.\n",
    "* Store the first Hotel result into the DataFrame.\n",
    "* Plot markers on top of the heatmap."
   ]
  },
  {
   "cell_type": "code",
   "execution_count": 13,
   "metadata": {},
   "outputs": [],
   "source": [
    "hotel_name_list = []\n",
    "for lat, lon in zip(df_ideal[\"Lat\"], df_ideal[\"Lon\"]):\n",
    "    \n",
    "    url = f\"https://maps.googleapis.com/maps/api/place/nearbysearch/json?location={lat},{lon}&radius=5000&type=hotel&key={g_key}\"\n",
    "    response = requests.get(url)\n",
    "    d = json.loads(response.text)\n",
    "    hotel_name = d[\"results\"][0][\"name\"]\n",
    "    hotel_name_list.append(hotel_name)"
   ]
  },
  {
   "cell_type": "code",
   "execution_count": 14,
   "metadata": {},
   "outputs": [
    {
     "data": {
      "text/plain": [
       "['Turaif', 'Villamontes']"
      ]
     },
     "execution_count": 14,
     "metadata": {},
     "output_type": "execute_result"
    }
   ],
   "source": [
    "hotel_name_list"
   ]
  },
  {
   "cell_type": "code",
   "execution_count": 15,
   "metadata": {},
   "outputs": [
    {
     "data": {
      "application/vnd.jupyter.widget-view+json": {
       "model_id": "c491bd0c1c9b4de7b3c6b6b07d8df1d0",
       "version_major": 2,
       "version_minor": 0
      },
      "text/plain": [
       "Figure(layout=FigureLayout(height='420px'))"
      ]
     },
     "metadata": {},
     "output_type": "display_data"
    }
   ],
   "source": [
    "# fig = gmaps.figure()\n",
    "markers = gmaps.marker_layer(locations,\n",
    "    info_box_content=[f\"Hotel: {hotel}, city:{city} country:{country}\" for hotel, city, country in zip(hotel_name_list, cities, countries)])\n",
    "fig.add_layer(markers)\n",
    "fig"
   ]
  },
  {
   "cell_type": "code",
   "execution_count": null,
   "metadata": {},
   "outputs": [],
   "source": []
  }
 ],
 "metadata": {
  "kernelspec": {
   "display_name": "Python 3",
   "language": "python",
   "name": "python3"
  },
  "language_info": {
   "codemirror_mode": {
    "name": "ipython",
    "version": 3
   },
   "file_extension": ".py",
   "mimetype": "text/x-python",
   "name": "python",
   "nbconvert_exporter": "python",
   "pygments_lexer": "ipython3",
   "version": "3.8.8"
  },
  "latex_envs": {
   "LaTeX_envs_menu_present": true,
   "autoclose": false,
   "autocomplete": true,
   "bibliofile": "biblio.bib",
   "cite_by": "apalike",
   "current_citInitial": 1,
   "eqLabelWithNumbers": true,
   "eqNumInitial": 1,
   "hotkeys": {
    "equation": "Ctrl-E",
    "itemize": "Ctrl-I"
   },
   "labels_anchors": false,
   "latex_user_defs": false,
   "report_style_numbering": false,
   "user_envs_cfg": false
  }
 },
 "nbformat": 4,
 "nbformat_minor": 4
}
